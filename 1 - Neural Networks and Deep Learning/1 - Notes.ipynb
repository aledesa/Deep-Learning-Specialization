{
 "cells": [
  {
   "cell_type": "markdown",
   "metadata": {},
   "source": [
    "# Week 1"
   ]
  },
  {
   "cell_type": "markdown",
   "metadata": {},
   "source": [
    "Applications in supervised learning:\n",
    "* Prediction of price or click on ad (yes/no) --> Standard NN\n",
    "* From image to object (photo tagging) --> Convolutional NN \n",
    "* From audio to text trasncript (speech recognicion) --> Recurrent NN\n",
    "* Translation from language to language --> More advanced RNN\n",
    "* From image/radars to position of other cars (autonomous driving) --> Custom/Hybrid NN"
   ]
  },
  {
   "cell_type": "markdown",
   "metadata": {},
   "source": [
    "Types of data:\n",
    "* Structured data: databases\n",
    "* Unstructured data: audio, images, text "
   ]
  },
  {
   "cell_type": "markdown",
   "metadata": {},
   "source": [
    "# Week 2"
   ]
  },
  {
   "cell_type": "markdown",
   "metadata": {},
   "source": [
    "## Logistic regression as a NN"
   ]
  },
  {
   "cell_type": "markdown",
   "metadata": {},
   "source": [
    "### Binary classification"
   ]
  },
  {
   "cell_type": "markdown",
   "metadata": {},
   "source": [
    "Training sample $X \\in \\mathbb{R}^{n_X \\times m}$, where $n_X$ is the number of features and $m$ is the number of observations"
   ]
  },
  {
   "cell_type": "markdown",
   "metadata": {},
   "source": [
    "### Logistic regression"
   ]
  },
  {
   "cell_type": "markdown",
   "metadata": {},
   "source": [
    "We want to estimate $\\mathbb{E}[y|x] = P(y=1|x) = \\hat{y} \\in [0,1]$.\n",
    "We set $\\hat{y} = \\sigma(w^Tx+b)$, the *sigmoid* function $\\sigma(z) = \\frac{1}{1+e^{-z}}$."
   ]
  },
  {
   "cell_type": "code",
   "execution_count": 1,
   "metadata": {
    "hide_input": true
   },
   "outputs": [
    {
     "data": {
      "image/png": "[encoded data removed]",
      "text/plain": [
       "<matplotlib.figure.Figure at 0x6150ecfd68>"
      ]
     },
     "metadata": {},
     "output_type": "display_data"
    }
   ],
   "source": [
    "# the sigmoid function\n",
    "import matplotlib.pylab as plt\n",
    "%matplotlib inline\n",
    "import numpy as np\n",
    "x = np.arange(-8, 8, 0.1)\n",
    "f = 1 / (1 + np.exp(-x))\n",
    "plt.plot(x, f)\n",
    "plt.axvline(x=0, ls = \"--\", c = 'black')\n",
    "plt.axhline(y=1, c = 'black')\n",
    "plt.axhline(y=0, c = 'black')\n",
    "plt.xlabel('x')\n",
    "plt.ylabel('f(x)')\n",
    "plt.title('Sigmoid function')\n",
    "plt.show()"
   ]
  },
  {
   "cell_type": "markdown",
   "metadata": {},
   "source": [
    "### Logistic regression cost function"
   ]
  },
  {
   "cell_type": "markdown",
   "metadata": {},
   "source": [
    "Loss function $L(\\hat{y},y):\\mathbb{R}^m \\rightarrow \\mathbb{R}$ to measure how good our estimate is compared to the real $y$.\n",
    "\n",
    "A quadratic function such as $\\frac{1}{2}(\\hat{y}-y)^2$ is not good for gradient discent.\n",
    "\n",
    "We use $L(\\hat{y},y) = -(y \\ln(\\hat{y}) +(1-y)\\ln(1-\\hat{y}))$:\n",
    "* if $y=1 \\implies L(\\hat{y},y) = -\\ln(\\hat{y})$, therefore we minimize $L$ by choosig the $w$ and $b$ such that $\\hat{y} \\in (0,1)$ is as large as possible\n",
    "* if $y=0 \\implies L(\\hat{y},y) = -\\ln(1-\\hat{y})$, therefore we want $\\hat{y} \\in (0,1)$ to be as small as possible\n",
    "\n",
    "The cost function $J(w,b) = \\frac{1}{m}\\sum_{i=1}^{m} L(\\hat{y}^i,y^i) = -\\frac{1}{m}\\sum_{i=1}^{m} \\bigl[y^i \\ln(\\hat{y}^i) +(1-y^i)\\ln(1-\\hat{y}^i)\\bigr]$ is convex.\n",
    "\n",
    "Note: minimizing the cost funcion is equivalent to maximizing the log-likelihood function:\n",
    "\n",
    "$\\ln P(y_1,...y_m|w,b) = \\ln \\prod_{i=1}^m  P(y_i|x) = \\sum_{i=1}^{m} \\ln P(y_i|x) =  \\sum_{i=1}^{m}  \\ln (\\hat{y}_i^{y_i}(1-\\hat{y}_i)^{1-y_i})$"
   ]
  },
  {
   "cell_type": "markdown",
   "metadata": {},
   "source": [
    "### Gradient discent"
   ]
  },
  {
   "cell_type": "markdown",
   "metadata": {},
   "source": [
    "Consider $w^*,b^* = argmin_{w,b} J(w,b)$.\n",
    "\n",
    "We find $w^*$ and $b^*$ by initializing some $(w^0,b^0)$ and by iterating\n",
    "\n",
    "* $w^{t+1} = w^t - \\alpha \\frac{\\partial J(w^t,b^t)}{\\partial w^t}$, where $\\alpha$ is the *learning rate*.\n",
    "* $b^{t+1} = b^t - \\alpha \\frac{\\partial J(w^t,b^t)}{\\partial b^t}$\n",
    "\n",
    "Because this function is convex, no matter where you initialize, you should get to the same point or roughly the same point. And what gradient descent does is it starts at that initial point and then takes a step in the steepest downhill direction.\n",
    "\n",
    "We will denote $\\partial x^t = \\frac{\\partial J(x^t)}{\\partial x^t}$.\n",
    "\n",
    "By the chain rule, we have that\n",
    "\n",
    "$\\partial w^t = \\frac{\\partial J(w^t,b^t)}{\\partial w^t} = \\frac{1}{m}\\sum_{i=1}^{m} \\frac{\\partial L(\\hat{y}_i,y_i)}{\\partial \\hat{y}_i} \\frac{\\partial \\hat{y}_i}{\\partial z_i} \\frac{\\partial z_i}{\\partial w^t}$, where $\\hat{y}_i = \\sigma(z_i)$ and $z_i = w^Tx_i+b$.\n",
    "\n",
    "By using the sigmoid function, we have that $\\frac{\\partial \\hat{y}}{\\partial z} = \\frac{\\partial (1+e^z)^{-1}}{\\partial z} = \\frac{e^{-z}}{(1+e^z)^2}$\n",
    "\n",
    "Therefore $\\partial z_i =  \\frac{1}{m}\\sum_{i=1}^{m} \\frac{\\partial L(\\hat{y}_i,y_i)}{\\partial \\hat{y}_i}\\frac{e^{-z_i}}{(1+e^{z_i})^2} = \\frac{1}{m}\\sum_{i=1}^{m} -\\big(\\frac{y_i}{\\hat{y}_i} - \\frac{1-y_i}{1-\\hat{y}_i} \\big) \\frac{e^{-z_i}}{(1+e^{z_i})^2} = \\frac{1}{m}\\sum_{i=1}^{m} \\hat{y}_i - y_i$.\n",
    "\n",
    "Hence\n",
    "\n",
    "$\\partial w^t = -\\frac{1}{m}\\sum_{i=1}^{m} (y^i-\\hat{y}^i) x^i$\n",
    "\n",
    "and\n",
    "\n",
    "$\\partial b^t = -\\frac{1}{m}\\sum_{i=1}^{m} (y^i-\\hat{y}^i)$."
   ]
  },
  {
   "cell_type": "markdown",
   "metadata": {},
   "source": [
    "# Week 3"
   ]
  },
  {
   "cell_type": "markdown",
   "metadata": {},
   "source": [
    "## Shallow Neural Network"
   ]
  },
  {
   "cell_type": "markdown",
   "metadata": {},
   "source": [
    "<img src=\"NN.PNG\" width=\"400\" />"
   ]
  },
  {
   "cell_type": "markdown",
   "metadata": {},
   "source": [
    "For a single observation $i$, let $a^{[0]} = [x_1, x_2, \\dots x_{n_x}]$ be the input layer.\n",
    "\n",
    "Each node $j$  of the hidden layer is computed as $a^{[1]}_j = \\sigma(z^{[1]}_j) = \\sigma(w^{[1]T}_jx+b^{[1]}_j)$, therefore the hidden layer is based on a matrix of weights $W^{[1]}$ of dimension $n_x \\times n_j$, where $n_j$ is the number of nodes of the hidden layer, and a vector $b^{[1]}$. The output layer is computed as $\\hat{y} = a^{[2]} = \\sigma(z^{[2]}) = \\sigma(w^{[2]T} a^{[1]} + b^{[2]})$.\n",
    "\n",
    "The function that maps from $z^{[l]}$ to $a^{[l]}$ is called *activation function*.\n",
    "\n",
    "The number of units in each layer $l$ are denoted by $n^{[l]}$. We have $n^{[0]} = n_x$ and $n^{[2]} = 1$"
   ]
  },
  {
   "cell_type": "markdown",
   "metadata": {},
   "source": [
    "Consider now the case where $m>1$, now the input layer $X = a^{[0]}$ has dimension $n_x \\times m$. \n",
    "\n",
    "In the hidden layer there are $n^{[1]}$ units (for each observation). We compute $a^{[1]} = \\sigma(z^{[1]})$ with $z^{[1]} = W^{[1]} X + b^{[1]}$ of dimension $n^{[1]} \\times m$, where $W^{[1]}$ has dimension $n^{[1]} \\times n_x$ and where for each observation of the same unit we sum a constant from $b^{[1]}$.\n",
    "\n",
    "For the case with 2 features, 2 observations and 3 nodes we have:\n",
    "\n",
    "$$\n",
    "W^{[1]} X + b^{[1]} = \\left(\\begin{array}{cc} \n",
    "w_{11} & w_{12}\\\\\n",
    "w_{21} & w_{22}\\\\\n",
    "w_{31} & w_{32}\n",
    "\\end{array}\\right)\n",
    "\\left(\\begin{array}{cc} \n",
    "x^{(1)}_1 & x^{(2)}_1\\\\ \n",
    "x^{(1)}_2 & x^{(2)}_2\n",
    "\\end{array}\\right)\n",
    "+\n",
    "\\left(\\begin{array}{cc}\n",
    "b_1 & b_1\\\\\n",
    "b_2 & b_2\\\\\n",
    "b_3 & b_3\n",
    "\\end{array}\\right)\n",
    "=\n",
    "\\left(\\begin{array}{cc} \n",
    "w_{11}x^{(1)}_1+w_{12}x^{(1)}_2+b_1 & w_{11}x^{(2)}_1+w_{12}x^{(2)}_1+b_1\\\\\n",
    "w_{21}x^{(1)}_1+w_{22}x^{(1)}_2+b_2 & w_{21}x^{(2)}_1+w_{22}x^{(2)}_2+b_2\\\\\n",
    "w_{31}x^{(1)}_1+w_{32}x^{(1)}_2+b_3 & w_{31}x^{(2)}_1+w_{32}x^{(2)}_2+b_3\n",
    "\\end{array}\\right)\n",
    "$$ \n",
    "\n",
    "Note that in python, thanks to *broadcasting*, it is sufficient to use a vector `b1` of dimension $n^{[1]} \\times 1$, since in\n",
    "\n",
    "`a1 = np.dot(W1,X)+b1`\n",
    "\n",
    "the vector `b1` will be added to each column of matrix `np.dot(W1,X)`."
   ]
  },
  {
   "cell_type": "markdown",
   "metadata": {},
   "source": [
    "### Activation functions"
   ]
  },
  {
   "cell_type": "markdown",
   "metadata": {},
   "source": [
    "As an alternative to the sigmoid function, one can use the hyperbolic tangent function $tanh(z) = \\frac{e^z-e^{-z}}{e^z+e^{-z}}$ which has zero mean and makes the learning for the next layer easier. In binary classification, the last layer can still use the sigmoid function because $\\hat{y} \\in (0,1)$."
   ]
  },
  {
   "cell_type": "code",
   "execution_count": 27,
   "metadata": {
    "hide_input": true
   },
   "outputs": [
    {
     "data": {
      "image/png": "[encoded data removed]",
      "text/plain": [
       "<Figure size 432x288 with 1 Axes>"
      ]
     },
     "metadata": {
      "needs_background": "light"
     },
     "output_type": "display_data"
    }
   ],
   "source": [
    "# the hyperbolic tangent function\n",
    "import matplotlib.pylab as plt\n",
    "%matplotlib inline\n",
    "import numpy as np\n",
    "x = np.arange(-8, 8, 0.1)\n",
    "f = np.tanh(x)\n",
    "plt.plot(x, f)\n",
    "plt.axvline(x=0, ls = \"--\", c = 'black')\n",
    "plt.axhline(y=0, ls = \"--\",c = 'black')\n",
    "plt.axhline(y=1, c = 'black')\n",
    "plt.axhline(y=-1, c = 'black')\n",
    "plt.xlabel('x')\n",
    "plt.ylabel('f(x)')\n",
    "plt.title('Hyperbolic tangent function')\n",
    "plt.show()"
   ]
  },
  {
   "cell_type": "markdown",
   "metadata": {},
   "source": [
    "The problem with the above activation functions is that the derivative for $z$ very large or very small are close to zero in both cases, and this slows down gradient discent. A very common activation funcion is the *Rectified Linear Unit (ReLU)* function $a = \\max\\{0,z\\}$, which has derivative equal to 1 when $z>0$. To avoid the negative derivative, an alternative is the *Leaky ReLU* function $a =  \\max\\{0.01z,z\\}$"
   ]
  },
  {
   "cell_type": "code",
   "execution_count": 59,
   "metadata": {
    "hide_input": true
   },
   "outputs": [
    {
     "data": {
      "image/png": "[encoded data removed]",
      "text/plain": [
       "<Figure size 432x288 with 2 Axes>"
      ]
     },
     "metadata": {
      "needs_background": "light"
     },
     "output_type": "display_data"
    }
   ],
   "source": [
    "# ReLU and Leaky ReLU functions\n",
    "import matplotlib.pylab as plt\n",
    "%matplotlib inline\n",
    "import numpy as np\n",
    "x = np.arange(-8, 8, 0.1)\n",
    "\n",
    "plt.figure(1)\n",
    "plt.subplot(2,2,1)\n",
    "f = np.maximum(0,x)\n",
    "plt.plot(x, f)\n",
    "plt.axvline(x=0, ls = \"--\", c = 'black')\n",
    "plt.axhline(y=0, ls = \"--\",c = 'black')\n",
    "plt.xlabel('x')\n",
    "plt.ylabel('f(x)')\n",
    "plt.title('ReLU function')\n",
    "plt.subplot(2,2,2)\n",
    "f = np.maximum(0.1*x,x)\n",
    "plt.plot(x, f)\n",
    "plt.axvline(x=0, ls = \"--\", c = 'black')\n",
    "plt.axhline(y=0, ls = \"--\",c = 'black')\n",
    "plt.xlabel('x')\n",
    "plt.ylabel('f(x)')\n",
    "plt.title('Leaky ReLU function')\n",
    "plt.show()"
   ]
  },
  {
   "cell_type": "markdown",
   "metadata": {},
   "source": [
    "If you use a linear activation function then the neural network is just outputting a linear function of the input. If you use a linear activation function then no matter how many layers your neural network has, all it's doing is just computing a linear activation function. So you might as well not have any hidden layers."
   ]
  },
  {
   "cell_type": "markdown",
   "metadata": {},
   "source": [
    "### Backpropagation"
   ]
  },
  {
   "cell_type": "markdown",
   "metadata": {},
   "source": [
    "To compute the derivatives with respect to the parameters, consider the following schema:\n",
    "* $x_i$, with dimension $n_x \\times 1$\n",
    "* $w^{[1]}$, with dimension $n^{[1]} \\times n_x$\n",
    "* $b^{[1]}$, with dimension $n^{[1]} \\times 1$\n",
    "* $z^{[1]} = w^{[1]} x_i + b^{[1]}$, with dimension $n^{[1]} \\times 1$\n",
    "* $a^{[1]} = g(z^{[1]})$, with dimension $n^{[1]} \\times 1$\n",
    "* $w^{[2]}$, with dimension $1 \\times n^{[1]}$\n",
    "* $b^{[2]}$, with dimension $1 \\times 1$\n",
    "* $z^{[2]} = w^{[2]}a^{[1]}+b^{[2]}$, with dimension $1 \\times 1$\n",
    "* $a^{[2]} = \\sigma(z^{[2]})$, with dimension $1 \\times 1$\n",
    "* $L(a^{[2]},y_i)$, with dimension $1 \\times 1$"
   ]
  },
  {
   "cell_type": "markdown",
   "metadata": {},
   "source": [
    "Therefore$^*$\n",
    "\n",
    "$\\frac{\\partial J(.)}{\\partial w^{[1]}} = \\frac{\\partial L(.)}{\\partial a^{[2]}} \\frac{\\partial a^{[2]}}{\\partial z^{[2]}} \\frac{\\partial z^{[2]}}{\\partial a^{[1]}} \\frac{\\partial a^{[1]}}{\\partial z^{[1]}} \\frac{\\partial z^{[1]}}{\\partial w^{[1]}}$\n",
    "\n",
    "Such that \n",
    "* $\\partial z^{[2]} = a^{[2]} - y$\n",
    "* $\\partial w^{[2]} = \\partial z^{[2]} a^{[1]T}$ (dimension $1 \\times n^{[1]}$)\n",
    "* $\\partial b^{[2]} = \\partial z^{[2]}$\n",
    "* $\\partial z^{[1]} =\\partial z^{[2]} \\frac{\\partial z^{[2]}}{\\partial a^{[1]}} \\frac{\\partial a^{[1]}}{\\partial z^{[1]}} = \\partial z^{[2]} w^{[2]T} g'(z^{[1]})$ (dimension $n^{[1]} \\times 1$)\n",
    "* $\\partial w^{[1]} = \\partial z^{[1]} x_i^T$ (dimension $n^{[1]} \\times n_x$)\n",
    "* $\\partial b^{[1]} = \\partial z^{[1]}$\n",
    "\n",
    "$^*$ To be more formal, with $m$ observations remember that the cost function $J(.)$ is the mean of the loss function $L(.)$, hence $\\partial w^{[l]} = \\frac{1}{m} \\partial z^{[l]} a^{[l-1]T}$ and $\\partial b^{[l]} = \\frac{1}{m} \\sum \\partial z^{[l]}$."
   ]
  },
  {
   "cell_type": "markdown",
   "metadata": {},
   "source": [
    "### Random Initialization"
   ]
  },
  {
   "cell_type": "markdown",
   "metadata": {},
   "source": [
    "If you initialize the gradient descent algorithm by choosing $w^{[1]}$ as a zero matrix then the hidden units/nodes will be the same.\n",
    "\n",
    "The solution to this is to initialize your parameters randomly. You can generate a gaussian random variable, usually multiplied by very small number, such as 0.01. But when you're training a very very deep neural network, then you might want to pick a different constant than 0.01 [next class' material]"
   ]
  },
  {
   "cell_type": "markdown",
   "metadata": {},
   "source": [
    "# Week 4"
   ]
  },
  {
   "cell_type": "markdown",
   "metadata": {},
   "source": [
    "## Deep Neural Network"
   ]
  },
  {
   "cell_type": "markdown",
   "metadata": {},
   "source": [
    "### Why deep representations?"
   ]
  },
  {
   "cell_type": "markdown",
   "metadata": {},
   "source": [
    "If you're building a system for face recognition or face detection, then the first layer of the neural network you can think of as maybe being a feature detector or an edge detector. A hidden unit may try to figure out where the edges of a particular orientation are in the image. And maybe another hidden unit might be trying to figure out where are the horizontal edges in the image. You can think of the first layer of the neural network as looking at the picture and trying to figure out where are the edges in the picture. Now, let's think about where the edges in this picture are by grouping together pixels to form edges. It can then detect the edges and group edges together to form parts of faces. So for example, you might have a low neuron trying to see if it's finding an eye, or a different neuron trying to find that part of the nose. And so by putting together lots of edges, it can start to detect different parts of faces. And then, finally, by putting together different parts of faces, like an eye or a nose or an ear or a chin, it can then try to recognize or detect different types of faces. So intuitively, you can think of the earlier layers of the neural network as detecting simple functions, like edges. And then composing them together in the later layers of a neural network so that it can learn more and more complex functions. These visualizations will make more sense when we talk about *convolutional nets*. And one technical detail of this visualization, the edge detectors are looking in relatively small areas of an image, maybe very small regions like that. And then the facial detectors you can look at maybe much larger areas of image. But the main intuition you take away from this is just finding simple things like edges and then building them up. Composing them together to detect more complex things like an eye or a nose then composing those together to find even more complex things. And this type of simple to complex hierarchical representation, or compositional representation, applies in other types of data than images and face recognition as well. "
   ]
  },
  {
   "cell_type": "markdown",
   "metadata": {},
   "source": [
    "For example, if you're trying to build a speech recognition system, it's hard to revisualize speech but if you input an audio clip then maybe the first level of a neural network might learn to detect low level audio wave form features, such as is this tone going up? Is it going down? Is it white noise or sniffling sound. And what is the pitch? When it comes to that, detect low level wave form features like that. And then by composing low level wave forms, maybe you'll learn to detect basic units of sound. In linguistics they call phonemes. But, for example, in the word cat, the C is a phoneme, the A is a phoneme, the T is another phoneme. But learns to find maybe the basic units of sound and then composing that together maybe learn to recognize words in the audio. And then maybe compose those together, in order to recognize entire phrases or sentences. So deep neural network with multiple hidden layers might be able to have the earlier layers learn these lower level simple features and then have the later deeper layers then put together the simpler things it's detected in order to detect more complex things like recognize specific words or even phrases or sentences. The uttering in order to carry out speech recognition. And what we see is that whereas the other layers are computing, what seems like relatively simple functions of the input such as where the edge is, by the time you get deep in the network you can actually do surprisingly complex things. Such as detect faces or detect words or phrases or sentences."
   ]
  },
  {
   "cell_type": "markdown",
   "metadata": {},
   "source": [
    "### Forward and Backward Propagation"
   ]
  },
  {
   "cell_type": "markdown",
   "metadata": {},
   "source": [
    "* Forward propagation:\n",
    "    * input $a^{[l-1]}$\n",
    "    * output $a^{[l]}$ and cache $z^{[l]}, a^{[l-1]}$ (and $W^{[l]}, b^{[l]}$)\n",
    "* Backward propagation:\n",
    "    * input $da^{[l]}$\n",
    "    * output $da^{[l-1]}, dW^{[l-1]}, db^{[l-1]}$\n",
    "    \n",
    "where\n",
    "- $dz^{[l]} = da^{[l]} * g^{[l]'}(z^{[l]})$, element-wise product\n",
    "- $dW^{[l]} = dz^{[l]} a^{[l-1]}$ (or $\\frac{1}{m}dZ^{[l]} A^{[l-1]T}$ with $m$ observations)\n",
    "- $db^{[l]} = dz^{[l]}$ (or $\\frac{1}{m} \\sum dZ^{[l]}$ with $m$ observations)\n",
    "- $da^{[l-1]} = W^{[l]T} dz^{[l]}$"
   ]
  },
  {
   "cell_type": "markdown",
   "metadata": {},
   "source": [
    "### Parameters vs Hyperparameters"
   ]
  },
  {
   "cell_type": "markdown",
   "metadata": {},
   "source": [
    "Hyperparameters:\n",
    "* The learning rate $\\alpha$\n",
    "* The number of iterations of gradient descent\n",
    "* The number of layers\n",
    "* The number of units in each layer\n",
    "* The activation function"
   ]
  }
 ],
 "metadata": {
  "kernelspec": {
   "display_name": "Python 3",
   "language": "python",
   "name": "python3"
  },
  "language_info": {
   "codemirror_mode": {
    "name": "ipython",
    "version": 3
   },
   "file_extension": ".py",
   "mimetype": "text/x-python",
   "name": "python",
   "nbconvert_exporter": "python",
   "pygments_lexer": "ipython3",
   "version": "3.7.9"
  },
  "toc": {
   "base_numbering": 1,
   "nav_menu": {},
   "number_sections": true,
   "sideBar": true,
   "skip_h1_title": false,
   "title_cell": "Table of Contents",
   "title_sidebar": "Contents",
   "toc_cell": false,
   "toc_position": {
    "height": "calc(100% - 180px)",
    "left": "10px",
    "top": "150px",
    "width": "272.188px"
   },
   "toc_section_display": true,
   "toc_window_display": true
  },
  "varInspector": {
   "cols": {
    "lenName": 16,
    "lenType": 16,
    "lenVar": 40
   },
   "kernels_config": {
    "python": {
     "delete_cmd_postfix": "",
     "delete_cmd_prefix": "del ",
     "library": "var_list.py",
     "varRefreshCmd": "print(var_dic_list())"
    },
    "r": {
     "delete_cmd_postfix": ") ",
     "delete_cmd_prefix": "rm(",
     "library": "var_list.r",
     "varRefreshCmd": "cat(var_dic_list()) "
    }
   },
   "types_to_exclude": [
    "module",
    "function",
    "builtin_function_or_method",
    "instance",
    "_Feature"
   ],
   "window_display": false
  }
 },
 "nbformat": 4,
 "nbformat_minor": 2
}
